{
 "cells": [
  {
   "cell_type": "code",
   "execution_count": null,
   "id": "764aed6c",
   "metadata": {},
   "outputs": [],
   "source": [
    "from sklearn.linear_model import LinearRegression\n",
    "import matplotlib.pyplot as plt\n",
    "from sklearn import datasets"
   ]
  },
  {
   "cell_type": "code",
   "execution_count": null,
   "id": "8ed4503b",
   "metadata": {},
   "outputs": [],
   "source": [
    "X,y = datasets.make_regression(n_samples=200,n_features=1,n_targets=1,noise=10)"
   ]
  },
  {
   "cell_type": "code",
   "execution_count": null,
   "id": "ff733a63",
   "metadata": {},
   "outputs": [],
   "source": [
    "plt.scatter(X,y,linewidths=0.1)\n",
    "plt.show()"
   ]
  },
  {
   "cell_type": "code",
   "execution_count": null,
   "id": "e6da1b84",
   "metadata": {},
   "outputs": [],
   "source": [
    "X.shape, X[:200,:].shape ## they are equal"
   ]
  },
  {
   "cell_type": "code",
   "execution_count": null,
   "id": "23a80ca7",
   "metadata": {},
   "outputs": [],
   "source": [
    "model = LinearRegression()\n",
    "model.fit(X,y)"
   ]
  },
  {
   "cell_type": "code",
   "execution_count": null,
   "id": "30a311a3",
   "metadata": {},
   "outputs": [],
   "source": [
    "!pip install mlflow"
   ]
  },
  {
   "cell_type": "code",
   "execution_count": null,
   "id": "9fcc1a5e",
   "metadata": {},
   "outputs": [],
   "source": [
    "import mlflow.sklearn\n",
    "from urllib.parse import urlparse\n",
    "from sklearn.metrics import mean_absolute_error, mean_squared_error, r2_score"
   ]
  },
  {
   "cell_type": "code",
   "execution_count": null,
   "id": "2680809d",
   "metadata": {},
   "outputs": [],
   "source": [
    "input_example = X[0:2]\n",
    "input_example"
   ]
  },
  {
   "cell_type": "code",
   "execution_count": null,
   "id": "b5d225f9",
   "metadata": {},
   "outputs": [],
   "source": [
    "tracking_url_type_store=urlparse(mlflow.get_tracking_uri()).scheme \n",
    "print(tracking_url_type_store) ## Lecture Demo 測試"
   ]
  },
  {
   "cell_type": "code",
   "execution_count": null,
   "id": "85083efd",
   "metadata": {},
   "outputs": [],
   "source": [
    "with mlflow.start_run():\n",
    "\n",
    "    y_pred= model.predict(X[:200,:]) ## X[:200,:] 就是 X\n",
    "\n",
    "    r2 = r2_score(y, y_pred)# here is r3 value\n",
    "\n",
    "    mlflow.log_metric(\"r2\", r2)\n",
    "\n",
    "    # Model registry does not work with file store\n",
    "    if tracking_url_type_store != \"file\": ## set one cloud location, you won't get 'file' over here.\n",
    "        mlflow.sklearn.log_model(model, \"model\", registered_model_name=\"ml_model\")\n",
    "    else:\n",
    "        #mlflow.sklearn.log_model(model, \"model\") ## deprecated\n",
    "        mlflow.sklearn.log_model(sk_model=model, name=\"my_sklearn_model\",input_example=input_example)"
   ]
  },
  {
   "cell_type": "code",
   "execution_count": null,
   "id": "8c0e5c9f",
   "metadata": {},
   "outputs": [],
   "source": [
    "plt.plot(X,y_pred,c=\"red\")\n",
    "plt.scatter(X,y)\n",
    "plt.show()"
   ]
  }
 ],
 "metadata": {
  "language_info": {
   "name": "python"
  }
 },
 "nbformat": 4,
 "nbformat_minor": 5
}
